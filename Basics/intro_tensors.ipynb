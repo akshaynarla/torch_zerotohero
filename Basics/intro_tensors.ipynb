{
 "cells": [
  {
   "cell_type": "code",
   "execution_count": 1,
   "metadata": {},
   "outputs": [
    {
     "name": "stdout",
     "output_type": "stream",
     "text": [
      "2.5.1\n"
     ]
    }
   ],
   "source": [
    "import torch\n",
    "\n",
    "print(torch.__version__)"
   ]
  },
  {
   "cell_type": "code",
   "execution_count": 2,
   "metadata": {},
   "outputs": [
    {
     "name": "stdout",
     "output_type": "stream",
     "text": [
      "Scalar is: tensor(10)\n",
      "It is of dimension: 0 and it is of value: 10\n"
     ]
    }
   ],
   "source": [
    "# Introdcution to Tensors\n",
    "scalar = torch.tensor(10)  # creates a tensor\n",
    "print(\"Scalar is:\", scalar) # this will print tensor(10) and not just 10 --> meaning it is a scalar of type tensor\n",
    "print(\"It is of dimension:\", scalar.dim(), \"and it is of value:\", scalar.item()) # this will print 10 value here"
   ]
  },
  {
   "cell_type": "code",
   "execution_count": 3,
   "metadata": {},
   "outputs": [
    {
     "name": "stdout",
     "output_type": "stream",
     "text": [
      "Vector is: tensor([10, 12, 39])\n",
      "It is of dimension: 1 and it is of size: torch.Size([3])\n"
     ]
    }
   ],
   "source": [
    "vector = torch.tensor([10, 12, 39])  # creates a vector\n",
    "print(\"Vector is:\", vector) \n",
    "print(\"It is of dimension:\", vector.dim(), \"and it is of size:\", vector.shape) "
   ]
  },
  {
   "cell_type": "code",
   "execution_count": 4,
   "metadata": {},
   "outputs": [
    {
     "name": "stdout",
     "output_type": "stream",
     "text": [
      "Matrix is: tensor([[10, 12, 39],\n",
      "        [ 1,  2,  3]])\n",
      "It is of dimension: 2 and it is of size: torch.Size([2, 3])\n"
     ]
    }
   ],
   "source": [
    "matrix = torch.tensor([[10, 12, 39] ,\n",
    "                       [1, 2, 3]])  # creates a matrix\n",
    "print(\"Matrix is:\", matrix) \n",
    "print(\"It is of dimension:\", matrix.dim(), \"and it is of size:\", matrix.shape)"
   ]
  },
  {
   "cell_type": "code",
   "execution_count": 5,
   "metadata": {},
   "outputs": [
    {
     "name": "stdout",
     "output_type": "stream",
     "text": [
      "Tensor is: tensor([[[10, 12, 39],\n",
      "         [ 1,  2,  3]]])\n",
      "It is of dimension: 3 and it is of size: torch.Size([1, 2, 3])\n"
     ]
    }
   ],
   "source": [
    "matrix2 = torch.tensor([[[10, 12, 39] ,\n",
    "                        [1, 2, 3]]])  # creates a tensor\n",
    "print(\"Tensor is:\", matrix2) \n",
    "print(\"It is of dimension:\", matrix2.dim(), \"and it is of size:\", matrix2.shape) "
   ]
  },
  {
   "cell_type": "code",
   "execution_count": 6,
   "metadata": {},
   "outputs": [
    {
     "name": "stdout",
     "output_type": "stream",
     "text": [
      "Random tensor is: tensor([[0.6206, 0.7652],\n",
      "        [0.3230, 0.4535]])\n",
      "Zero tensor is: tensor([[0., 0.],\n",
      "        [0., 0.]])\n"
     ]
    }
   ],
   "source": [
    "random_tensor = torch.rand(2, 2) # creates a tensor of size 2x2 with random values\n",
    "print(\"Random tensor is:\", random_tensor)\n",
    "\n",
    "zero_tensor = torch.zeros(2, 2) # creates a tensor of size 2x2 with zeros\n",
    "print(\"Zero tensor is:\", zero_tensor)"
   ]
  },
  {
   "cell_type": "code",
   "execution_count": 7,
   "metadata": {},
   "outputs": [
    {
     "name": "stdout",
     "output_type": "stream",
     "text": [
      "Random tensor2 is: tensor([[[0.4050, 0.6377, 0.8448, 0.9980],\n",
      "         [0.7323, 0.0336, 0.8581, 0.6762],\n",
      "         [0.8620, 0.8461, 0.2270, 0.1963],\n",
      "         [0.2829, 0.6320, 0.2315, 0.4880],\n",
      "         [0.1290, 0.8659, 0.8678, 0.3309]],\n",
      "\n",
      "        [[0.5148, 0.7644, 0.3558, 0.9824],\n",
      "         [0.5459, 0.1211, 0.4200, 0.3406],\n",
      "         [0.1848, 0.6491, 0.1335, 0.6436],\n",
      "         [0.6975, 0.5814, 0.6339, 0.0825],\n",
      "         [0.1978, 0.3898, 0.6627, 0.3051]],\n",
      "\n",
      "        [[0.0302, 0.0229, 0.8528, 0.4592],\n",
      "         [0.5201, 0.8678, 0.2287, 0.1659],\n",
      "         [0.5152, 0.5466, 0.8060, 0.7313],\n",
      "         [0.4603, 0.1273, 0.6549, 0.5717],\n",
      "         [0.3521, 0.1438, 0.0766, 0.1871]]])\n",
      "Random tensor3 is: tensor([[[0.1525, 0.8348, 0.2500],\n",
      "         [0.1696, 0.1499, 0.2295]],\n",
      "\n",
      "        [[0.9180, 0.9137, 0.9531],\n",
      "         [0.0212, 0.0346, 0.6324]]])\n"
     ]
    }
   ],
   "source": [
    "random_tensor2 = torch.rand(3,5,4) # creates a tensor with 3 dimensions with 5 rows and 4 columns of values\n",
    "# for example: 3 matrices of 5x4 which maybe represents an R,G,B (3 channels) of 5x4 pixels\n",
    "print(\"Random tensor2 is:\", random_tensor2)\n",
    "\n",
    "random_tensor3 = torch.rand(size=(2,2,3))\n",
    "print(\"Random tensor3 is:\", random_tensor3)"
   ]
  },
  {
   "cell_type": "code",
   "execution_count": 12,
   "metadata": {},
   "outputs": [
    {
     "name": "stdout",
     "output_type": "stream",
     "text": [
      "Tensor_1 is: tensor([0, 2, 4, 6, 8])\n",
      "Tensor_2 is: tensor([[0, 1],\n",
      "        [2, 3]])\n"
     ]
    },
    {
     "data": {
      "text/plain": [
       "'torch.LongTensor'"
      ]
     },
     "execution_count": 12,
     "metadata": {},
     "output_type": "execute_result"
    }
   ],
   "source": [
    "tensor_1 = torch.arange(0, 9, 2) # creates a tensor with values from 0 to 9 with step 2. includes 0 but not 9.\n",
    "print(\"Tensor_1 is:\", tensor_1) # use zeros_like, ones_like(name_of_tensor) to create a tensor of same size with zeros or ones\n",
    "tensor_2 = torch.arange(0, 4).reshape(2, 2) # creates a tensor with values from 0 to 9 with step 2 and reshapes it to 2x2\n",
    "print(\"Tensor_2 is:\", tensor_2)\n",
    "tensor_2.type()"
   ]
  }
 ],
 "metadata": {
  "kernelspec": {
   "display_name": "torchproj",
   "language": "python",
   "name": "python3"
  },
  "language_info": {
   "codemirror_mode": {
    "name": "ipython",
    "version": 3
   },
   "file_extension": ".py",
   "mimetype": "text/x-python",
   "name": "python",
   "nbconvert_exporter": "python",
   "pygments_lexer": "ipython3",
   "version": "3.10.15"
  }
 },
 "nbformat": 4,
 "nbformat_minor": 2
}
