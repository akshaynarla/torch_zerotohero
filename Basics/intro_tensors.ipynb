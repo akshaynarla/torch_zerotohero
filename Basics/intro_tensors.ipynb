{
 "cells": [
  {
   "cell_type": "code",
   "execution_count": 1,
   "metadata": {},
   "outputs": [
    {
     "name": "stdout",
     "output_type": "stream",
     "text": [
      "2.5.1\n"
     ]
    }
   ],
   "source": [
    "import torch\n",
    "\n",
    "print(torch.__version__)"
   ]
  },
  {
   "cell_type": "markdown",
   "metadata": {},
   "source": [
    "# Intro to Tensors (Init, Create)"
   ]
  },
  {
   "cell_type": "code",
   "execution_count": 2,
   "metadata": {},
   "outputs": [
    {
     "name": "stdout",
     "output_type": "stream",
     "text": [
      "Scalar is: tensor(10)\n",
      "It is of dimension: 0 and it is of value: 10\n"
     ]
    }
   ],
   "source": [
    "# Introdcution to Tensors\n",
    "scalar = torch.tensor(10)  # creates a tensor\n",
    "print(\"Scalar is:\", scalar) # this will print tensor(10) and not just 10 --> meaning it is a scalar of type tensor\n",
    "print(\"It is of dimension:\", scalar.dim(), \"and it is of value:\", scalar.item()) # this will print 10 value here"
   ]
  },
  {
   "cell_type": "code",
   "execution_count": 3,
   "metadata": {},
   "outputs": [
    {
     "name": "stdout",
     "output_type": "stream",
     "text": [
      "Vector is: tensor([10, 12, 39])\n",
      "It is of dimension: 1 and it is of size: torch.Size([3])\n"
     ]
    }
   ],
   "source": [
    "vector = torch.tensor([10, 12, 39])  # creates a vector\n",
    "print(\"Vector is:\", vector) \n",
    "print(\"It is of dimension:\", vector.dim(), \"and it is of size:\", vector.shape) "
   ]
  },
  {
   "cell_type": "code",
   "execution_count": 4,
   "metadata": {},
   "outputs": [
    {
     "name": "stdout",
     "output_type": "stream",
     "text": [
      "Matrix is: tensor([[10, 12, 39],\n",
      "        [ 1,  2,  3]])\n",
      "It is of dimension: 2 and it is of size: torch.Size([2, 3])\n"
     ]
    }
   ],
   "source": [
    "matrix = torch.tensor([[10, 12, 39] ,\n",
    "                       [1, 2, 3]])  # creates a matrix\n",
    "print(\"Matrix is:\", matrix) \n",
    "print(\"It is of dimension:\", matrix.dim(), \"and it is of size:\", matrix.shape)"
   ]
  },
  {
   "cell_type": "code",
   "execution_count": 5,
   "metadata": {},
   "outputs": [
    {
     "name": "stdout",
     "output_type": "stream",
     "text": [
      "Tensor is: tensor([[[10, 12, 39],\n",
      "         [ 1,  2,  3]]])\n",
      "It is of dimension: 3 and it is of size: torch.Size([1, 2, 3])\n"
     ]
    }
   ],
   "source": [
    "matrix2 = torch.tensor([[[10, 12, 39] ,\n",
    "                        [1, 2, 3]]])  # creates a tensor\n",
    "print(\"Tensor is:\", matrix2) \n",
    "print(\"It is of dimension:\", matrix2.dim(), \"and it is of size:\", matrix2.shape) "
   ]
  },
  {
   "cell_type": "code",
   "execution_count": 6,
   "metadata": {},
   "outputs": [
    {
     "name": "stdout",
     "output_type": "stream",
     "text": [
      "Random tensor is: tensor([[0.6206, 0.7652],\n",
      "        [0.3230, 0.4535]])\n",
      "Zero tensor is: tensor([[0., 0.],\n",
      "        [0., 0.]])\n"
     ]
    }
   ],
   "source": [
    "random_tensor = torch.rand(2, 2) # creates a tensor of size 2x2 with random values\n",
    "print(\"Random tensor is:\", random_tensor)\n",
    "\n",
    "zero_tensor = torch.zeros(2, 2) # creates a tensor of size 2x2 with zeros\n",
    "print(\"Zero tensor is:\", zero_tensor)"
   ]
  },
  {
   "cell_type": "code",
   "execution_count": 7,
   "metadata": {},
   "outputs": [
    {
     "name": "stdout",
     "output_type": "stream",
     "text": [
      "Random tensor2 is: tensor([[[0.4050, 0.6377, 0.8448, 0.9980],\n",
      "         [0.7323, 0.0336, 0.8581, 0.6762],\n",
      "         [0.8620, 0.8461, 0.2270, 0.1963],\n",
      "         [0.2829, 0.6320, 0.2315, 0.4880],\n",
      "         [0.1290, 0.8659, 0.8678, 0.3309]],\n",
      "\n",
      "        [[0.5148, 0.7644, 0.3558, 0.9824],\n",
      "         [0.5459, 0.1211, 0.4200, 0.3406],\n",
      "         [0.1848, 0.6491, 0.1335, 0.6436],\n",
      "         [0.6975, 0.5814, 0.6339, 0.0825],\n",
      "         [0.1978, 0.3898, 0.6627, 0.3051]],\n",
      "\n",
      "        [[0.0302, 0.0229, 0.8528, 0.4592],\n",
      "         [0.5201, 0.8678, 0.2287, 0.1659],\n",
      "         [0.5152, 0.5466, 0.8060, 0.7313],\n",
      "         [0.4603, 0.1273, 0.6549, 0.5717],\n",
      "         [0.3521, 0.1438, 0.0766, 0.1871]]])\n",
      "Random tensor3 is: tensor([[[0.1525, 0.8348, 0.2500],\n",
      "         [0.1696, 0.1499, 0.2295]],\n",
      "\n",
      "        [[0.9180, 0.9137, 0.9531],\n",
      "         [0.0212, 0.0346, 0.6324]]])\n"
     ]
    }
   ],
   "source": [
    "random_tensor2 = torch.rand(3,5,4) # creates a tensor with 3 dimensions with 5 rows and 4 columns of values\n",
    "# for example: 3 matrices of 5x4 which maybe represents an R,G,B (3 channels) of 5x4 pixels\n",
    "print(\"Random tensor2 is:\", random_tensor2)\n",
    "\n",
    "random_tensor3 = torch.rand(size=(2,2,3))\n",
    "print(\"Random tensor3 is:\", random_tensor3)"
   ]
  },
  {
   "cell_type": "code",
   "execution_count": 12,
   "metadata": {},
   "outputs": [
    {
     "name": "stdout",
     "output_type": "stream",
     "text": [
      "Tensor_1 is: tensor([0, 2, 4, 6, 8])\n",
      "Tensor_2 is: tensor([[0, 1],\n",
      "        [2, 3]])\n"
     ]
    },
    {
     "data": {
      "text/plain": [
       "'torch.LongTensor'"
      ]
     },
     "execution_count": 12,
     "metadata": {},
     "output_type": "execute_result"
    }
   ],
   "source": [
    "tensor_1 = torch.arange(0, 9, 2) # creates a tensor with values from 0 to 9 with step 2. includes 0 but not 9.\n",
    "print(\"Tensor_1 is:\", tensor_1) # use zeros_like, ones_like(name_of_tensor) to create a tensor of same size with zeros or ones\n",
    "tensor_2 = torch.arange(0, 4).reshape(2, 2) # creates a tensor with values from 0 to 9 with step 2 and reshapes it to 2x2\n",
    "print(\"Tensor_2 is:\", tensor_2)\n",
    "tensor_2.type()"
   ]
  },
  {
   "cell_type": "markdown",
   "metadata": {},
   "source": [
    "# Tensor Attributes\n",
    "Common errors with PyTorch tensor attributes:\n",
    "- Some operations with mixing datatypes run error (tensor.dtype)\n",
    "- When different shapes are getting multiplied or subjected to some operations (tensor.shape)\n",
    "- Device is different: problem when you have multiple computation. (tensor.device)"
   ]
  },
  {
   "cell_type": "code",
   "execution_count": null,
   "metadata": {},
   "outputs": [
    {
     "name": "stdout",
     "output_type": "stream",
     "text": [
      "Int_32_tensor is: tensor([1, 2, 3], dtype=torch.int32)\n",
      "Float_32_tensor is: tensor([1., 2.])\n"
     ]
    },
    {
     "ename": "RuntimeError",
     "evalue": "The size of tensor a (2) must match the size of tensor b (3) at non-singleton dimension 0",
     "output_type": "error",
     "traceback": [
      "\u001b[1;31m---------------------------------------------------------------------------\u001b[0m",
      "\u001b[1;31mRuntimeError\u001b[0m                              Traceback (most recent call last)",
      "Cell \u001b[1;32mIn[4], line 6\u001b[0m\n\u001b[0;32m      4\u001b[0m float_32_tensor \u001b[38;5;241m=\u001b[39m torch\u001b[38;5;241m.\u001b[39mtensor([\u001b[38;5;241m1\u001b[39m, \u001b[38;5;241m2\u001b[39m], dtype\u001b[38;5;241m=\u001b[39mtorch\u001b[38;5;241m.\u001b[39mfloat32)\n\u001b[0;32m      5\u001b[0m \u001b[38;5;28mprint\u001b[39m(\u001b[38;5;124m\"\u001b[39m\u001b[38;5;124mFloat_32_tensor is:\u001b[39m\u001b[38;5;124m\"\u001b[39m, float_32_tensor)\n\u001b[1;32m----> 6\u001b[0m \u001b[38;5;28mprint\u001b[39m(\u001b[43mfloat_32_tensor\u001b[49m\u001b[38;5;241;43m*\u001b[39;49m\u001b[43m \u001b[49m\u001b[43mint_32_tensor\u001b[49m) \u001b[38;5;66;03m# performs element-wise multiplication and works also.\u001b[39;00m\n",
      "\u001b[1;31mRuntimeError\u001b[0m: The size of tensor a (2) must match the size of tensor b (3) at non-singleton dimension 0"
     ]
    }
   ],
   "source": [
    "int_32_tensor = torch.tensor([1, 2, 3], dtype=torch.int32) # creates a tensor of type int32\n",
    "print(\"Int_32_tensor is:\", int_32_tensor)\n",
    "# float_32_tensor = torch.tensor([1, 2, 3], dtype=torch.float32) # creates a tensor of type float32. No error and operation works fine.\n",
    "float_32_tensor = torch.tensor([1, 2], dtype=torch.float32) # gives \"a size of tensor a must match size of tensor b\" at dimension error\n",
    "print(\"Float_32_tensor is:\", float_32_tensor)\n",
    "print(float_32_tensor* int_32_tensor) # performs element-wise multiplication and works also."
   ]
  },
  {
   "cell_type": "code",
   "execution_count": null,
   "metadata": {},
   "outputs": [
    {
     "name": "stdout",
     "output_type": "stream",
     "text": [
      "Shape of tensor_3 is: torch.Size([3, 4])\n",
      "Datatype of tensor_3 is: torch.float16\n",
      "Device of tensor_3 is: cpu\n"
     ]
    }
   ],
   "source": [
    "# https://stackoverflow.com/questions/76171206/pytorch-runtimeerror-check-uniform-bounds-not-implemented-for-int\n",
    "# tensor_3 = torch.rand(3,4, dtype= torch.int16) # throws \"check uniform bounds\" error as only float can be initialized with random values\n",
    "tensor_3 = torch.rand(3,4, dtype= torch.float16) # default is float32\n",
    "print(\"Shape of tensor_3 is:\", tensor_3.shape)\n",
    "print(\"Datatype of tensor_3 is:\", tensor_3.dtype)\n",
    "print(\"Device of tensor_3 is:\", tensor_3.device)\n",
    "\n"
   ]
  },
  {
   "cell_type": "markdown",
   "metadata": {},
   "source": [
    "# Manipulating Tensors\n",
    "- Basic arithmetic operations (+, -, /, *)\n",
    "- Matrix Multiplication (dot product)\n",
    "\n",
    "2 main rules of matmul:\n",
    "@ another symbol for matmul or .\n",
    "1. Inner dimensions must match: (3,2) @ (3,2) won't work. (3,2) @ (2,3)\n",
    "2. Resulting shape is outer-dimensions basically\n",
    "\n",
    "Neural Networks basically make use of these operations to represent the model and represent data for the mathematical functions involved."
   ]
  },
  {
   "cell_type": "code",
   "execution_count": null,
   "metadata": {},
   "outputs": [
    {
     "name": "stdout",
     "output_type": "stream",
     "text": [
      "Product is: tensor([1., 4., 9.])\n",
      "Adding 10 to int_32_tensor: tensor([11, 12, 13], dtype=torch.int32)\n"
     ]
    }
   ],
   "source": [
    "int_32_tensor = torch.tensor([1, 2, 3], dtype=torch.int32)\n",
    "float_32_tensor = torch.tensor([1, 2, 3], dtype=torch.float32) \n",
    "\n",
    "product = int_32_tensor * float_32_tensor  # throws error if shapes are different.\n",
    "# performs element-wise multiplication (needs same shape). or can be a scalar multiplied to vector/matrix\n",
    "# For arithmetic operations, use symbols or torch.add, torch.sub etc.\n",
    "print(\"Product is:\", product)\n",
    "print(\"Adding 10 to int_32_tensor:\", int_32_tensor+10) # gives tensor([11, 12, 13], dtype=torch.int32)"
   ]
  },
  {
   "cell_type": "code",
   "execution_count": null,
   "metadata": {},
   "outputs": [
    {
     "name": "stdout",
     "output_type": "stream",
     "text": [
      "tensor([[0.7146, 0.4627],\n",
      "        [0.5713, 0.8185]])\n",
      "tensor(14, dtype=torch.int32)\n"
     ]
    }
   ],
   "source": [
    "print(torch.matmul(torch.rand(2,3), torch.rand(3,2))) # matrix multiplication (dot product) of 2x3 and 3x2 matrices gives 2x2 matrix\n",
    "\n",
    "# print(torch.matmul(int_32_tensor, float_32_tensor)) # gives errors and needs to be of same dtype\n",
    "print(torch.matmul(int_32_tensor, int_32_tensor)) # works fine. Even though we didn't give any reshape, it took the transpose and multiplied correctly, the 2 matrices.\n",
    "# This is because it takes this as just 3 and not (3,1)"
   ]
  },
  {
   "cell_type": "code",
   "execution_count": null,
   "metadata": {},
   "outputs": [
    {
     "data": {
      "text/plain": [
       "torch.Size([3])"
      ]
     },
     "execution_count": 19,
     "metadata": {},
     "output_type": "execute_result"
    }
   ],
   "source": [
    "# torch.matmul(torch.rand(2,3), torch.rand(2,3)) # won't work as inner dimensions don't match\n",
    "torch.matmul(torch.rand(2,3), torch.rand(3,3))\n",
    "torch.matmul(int_32_tensor, int_32_tensor)"
   ]
  },
  {
   "cell_type": "markdown",
   "metadata": {},
   "source": [
    "# Tensor Aggregation\n",
    "- To find min, max, mean, sum etc. --> you have in-built functions for this in PyTorch"
   ]
  },
  {
   "cell_type": "code",
   "execution_count": null,
   "metadata": {},
   "outputs": [
    {
     "name": "stdout",
     "output_type": "stream",
     "text": [
      "tensor(0)\n",
      "tensor(99)\n",
      "tensor(49.5000)\n",
      "tensor(0)\n",
      "tensor(99)\n"
     ]
    }
   ],
   "source": [
    "tensor_agg = torch.arange(0,100)\n",
    "print(torch.min(tensor_agg))\n",
    "print(torch.max(tensor_agg))\n",
    "print(torch.mean(tensor_agg.type(torch.float32)))   # needs to be float always.\n",
    "torch.sum(tensor_agg), tensor_agg.sum()\n",
    "print(torch.argmin(tensor_agg))  # gives index of min value. i.e., shows where the min value in the tensor is located.\n",
    "print(torch.argmax(tensor_agg))  # gives index of max value. These are particularly useful with softmax for classification problems."
   ]
  },
  {
   "cell_type": "markdown",
   "metadata": {},
   "source": [
    "# Reshaping Tensors\n",
    "- Reshape an input tensor to a particular shape\n",
    "- Stack combines/concatenates along a particular dimension (hstack/vstack also exists)\n",
    "- Squeeze removes all 1 dimensions from a tensor and unsqueeze does the opposite"
   ]
  },
  {
   "cell_type": "code",
   "execution_count": null,
   "metadata": {},
   "outputs": [
    {
     "name": "stdout",
     "output_type": "stream",
     "text": [
      "tensor([[1, 2, 3],\n",
      "        [4, 5, 6],\n",
      "        [7, 8, 9]]) torch.Size([3, 3])\n",
      "tensor([[1, 2, 3, 4, 5, 6, 7, 8, 9]]) torch.Size([1, 9])\n",
      "tensor([[1, 2, 3, 1, 2, 3],\n",
      "        [4, 5, 6, 4, 5, 6],\n",
      "        [7, 8, 9, 7, 8, 9]]) torch.Size([3, 6])\n",
      "tensor([1, 2, 3, 4, 5, 6, 7, 8, 9]) torch.Size([9])\n",
      "tensor([[1, 4, 7],\n",
      "        [2, 5, 8],\n",
      "        [3, 6, 9],\n",
      "        [1, 4, 7],\n",
      "        [2, 5, 8],\n",
      "        [3, 6, 9]]) torch.Size([6, 3])\n"
     ]
    }
   ],
   "source": [
    "s = torch.arange(1,10).reshape(3,3)\n",
    "print(s, s.shape)\n",
    "\n",
    "s_reshape = s.reshape(1,9)  # returns a new tensor and does not change the original tensor s\n",
    "# just s.reshape doesn't change anything.\n",
    "print(s_reshape, s_reshape.shape)\n",
    "\n",
    "# s_stack = torch.stack([s,s], dim=0) # stacks s on top of itslef along the dimension 0, which is why we have 2 times 3x3 tensor.\n",
    "# s_stack = torch.stack([s,s], dim=1) # gives 3,2,3 tensor, each rows stacked now.\n",
    "# s_stack = torch.stack([s,s], dim=2) # gives 3,3,2 with column stacking.\n",
    "s_stack = torch.hstack([s,s]) # gives 3,6 tensor by horizontal stack. Increased number of columns.\n",
    "print(s_stack, s_stack.shape)\n",
    "\n",
    "s_squeeze = torch.squeeze(s_reshape)  # removes all single dimensions i.e., 1\n",
    "print(s_squeeze, s_squeeze.shape)  # changed from 1x9 to 9\n",
    "# s_permute = torch.permute(s_stack, (0,1) ) # will keep same\n",
    "s_permute = torch.permute(s_stack, (1,0) ) # changed to 6x3. here we changed the 0 dimension to 1st and 1st to 0 i.e., transpose\n",
    "# this can be used to mix dimensions when needed. typically used with image tensors\n",
    "print(s_permute, s_permute.shape)\n",
    "# also works with tensor.permute and so on. "
   ]
  },
  {
   "cell_type": "markdown",
   "metadata": {},
   "source": [
    "# Selecting data from Tensors\n",
    "- Indexing is similar to NumPy"
   ]
  },
  {
   "cell_type": "code",
   "execution_count": null,
   "metadata": {},
   "outputs": [
    {
     "name": "stdout",
     "output_type": "stream",
     "text": [
      "tensor([[[ 1,  2,  3,  4,  5],\n",
      "         [ 6,  7,  8,  9, 10],\n",
      "         [11, 12, 13, 14, 15],\n",
      "         [16, 17, 18, 19, 20],\n",
      "         [21, 22, 23, 24, 25]],\n",
      "\n",
      "        [[26, 27, 28, 29, 30],\n",
      "         [31, 32, 33, 34, 35],\n",
      "         [36, 37, 38, 39, 40],\n",
      "         [41, 42, 43, 44, 45],\n",
      "         [46, 47, 48, 49, 50]]])\n",
      "First element: tensor([1, 2, 3, 4, 5])\n",
      "First element: tensor([26, 27, 28, 29, 30])\n",
      "Randome element: tensor(38)\n",
      "Test: tensor([14, 39])\n",
      "Test 2: tensor([ 4,  9, 14, 19, 24])\n",
      "Test 3: tensor([[ 6,  7,  8,  9, 10],\n",
      "        [31, 32, 33, 34, 35]])\n",
      "Test 4: tensor([[ 2,  7, 12, 17, 22],\n",
      "        [27, 32, 37, 42, 47]]) torch.Size([2, 5])\n"
     ]
    }
   ],
   "source": [
    "x = torch.arange(1,51).reshape(2, 5,5)\n",
    "print(x)\n",
    "\n",
    "# indexing on x\n",
    "print(\"First element:\", x[0][0]) # gives 1,2,3,4,5 i.e. this gives the first row of the first 5x5 matrix\n",
    "print(\"First element:\", x[1][0]) # gives 26-30 i.e. this gives the first row of the second 5x5 matrix\n",
    "print(\"Randome element:\", x[1][2][2]) # should give 38 and it did\n",
    "\n",
    "# to select all values of a particular dimension and specific index in other dimensions:\n",
    "print(\"Test:\", x[:, 2, 3]) # returns 3rd row 4 th column from all 0-dimensions. (2 0-dimension elements here)\n",
    "print(\"Test 2:\", x[0, :, 3]) # returns all rows from first 5x5 matrix at 4th column\n",
    "\n",
    "# test yourself: return the 2nd column from both matrices in the tensor. i.e. all row items is needed for the 2nd column \n",
    "print(\"Test 3:\", x[:,1,:] ) # returns rows\n",
    "print(\"Test 4:\", x[:, :,1], x[:,:,1].shape ) # returns columns. the correct answer. selects only 2nd column but : means all other rows and tensor dimensions are considered \n",
    "# shape here should be 2,5,1 or just 2,5 "
   ]
  },
  {
   "cell_type": "code",
   "execution_count": null,
   "metadata": {},
   "outputs": [
    {
     "name": "stdout",
     "output_type": "stream",
     "text": [
      "tensor([[0.8823, 0.9150, 0.3829, 0.9593],\n",
      "        [0.3904, 0.6009, 0.2566, 0.7936],\n",
      "        [0.9408, 0.1332, 0.9346, 0.5936]])\n",
      "tensor([[0.8694, 0.5677, 0.7411, 0.4294],\n",
      "        [0.8854, 0.5739, 0.2666, 0.6274],\n",
      "        [0.2696, 0.4414, 0.2969, 0.8317]])\n"
     ]
    }
   ],
   "source": [
    "# reproducibility with random numbers. pseudo-random numbers generator with Mersenne Twister algorithm.\n",
    "torch.manual_seed(42) # you can set at the beginning of a program. But in ipynb it needs to be set before every random function call to get same results\n",
    "print(torch.rand(3,4)) # provides the same random numbers every time\n",
    "# if you set the seed again, it will give the same random numbers again\n",
    "print(torch.rand(3,4)) # provides a different set of random numbers now\n",
    "\n",
    "# 42 is used as a movie reference from \"The Hitchhiker's Guide to the Galaxy\" where 42 is the answer to life, universe and everything."
   ]
  },
  {
   "cell_type": "markdown",
   "metadata": {},
   "source": [
    "# Exercises\n",
    "\n",
    "- Create a random tensor with shape (7, 7).\n",
    "- Perform a matrix multiplication on the tensor from 2 with another random tensor with shape (1, 7) (hint: you may have to transpose the second tensor).\n",
    "- Set the random seed to 0 and do exercises 2 & 3 over again.\n",
    "- Find the maximum and minimum values of the matrix multiplication.\n",
    "- Find the maximum and minimum index values of the output of matrix multiplication.\n",
    "- Make a random tensor with shape (1, 1, 1, 10) and then create a new tensor with all the 1 dimensions removed to be left with a tensor of shape (10). Set the seed to 7 when you create it and print out the first tensor and it's shape as well as the second tensor and it's shape."
   ]
  },
  {
   "cell_type": "code",
   "execution_count": null,
   "metadata": {},
   "outputs": [
    {
     "name": "stdout",
     "output_type": "stream",
     "text": [
      "Exercise random tensor: tensor([[0.2539, 0.2956, 0.3413, 0.0248, 0.9103, 0.9192, 0.4216],\n",
      "        [0.4431, 0.2959, 0.0485, 0.0134, 0.6858, 0.2255, 0.1786],\n",
      "        [0.4610, 0.3335, 0.3382, 0.5161, 0.3939, 0.3278, 0.2606],\n",
      "        [0.0931, 0.9193, 0.2999, 0.6325, 0.3265, 0.5406, 0.9662],\n",
      "        [0.7304, 0.0667, 0.6985, 0.9746, 0.6315, 0.8352, 0.9929],\n",
      "        [0.4234, 0.6038, 0.1525, 0.3970, 0.8703, 0.7563, 0.1836],\n",
      "        [0.0991, 0.1583, 0.0066, 0.1142, 0.3764, 0.8374, 0.5837]])\n",
      "tensor([[1.5107],\n",
      "        [0.6358],\n",
      "        [0.8928],\n",
      "        [1.2103],\n",
      "        [1.9033],\n",
      "        [1.2658],\n",
      "        [0.9884]]) torch.Size([7, 1])\n"
     ]
    }
   ],
   "source": [
    "# Create a random tensor with shape (7, 7).\n",
    "ex_random_tensor = torch.rand(7,7)\n",
    "print(\"Exercise random tensor:\", ex_random_tensor) # here, because random seed is not set, it gives different values every time.\n",
    "\n",
    "# Matrix multiplication\n",
    "ex_random_tensor_2 = torch.rand(1,7)\n",
    "# matrix_mult = torch.matmul(ex_random_tensor, ex_random_tensor_2) # directly (7,7 and 1,7)\n",
    "matrix_mult = torch.matmul(ex_random_tensor, ex_random_tensor_2.T)\n",
    "print(matrix_mult, matrix_mult.shape) # output 7,1. again random every time."
   ]
  },
  {
   "cell_type": "code",
   "execution_count": 50,
   "metadata": {},
   "outputs": [
    {
     "name": "stdout",
     "output_type": "stream",
     "text": [
      "Exercise random tensor: tensor([[0.4963, 0.7682, 0.0885, 0.1320, 0.3074, 0.6341, 0.4901],\n",
      "        [0.8964, 0.4556, 0.6323, 0.3489, 0.4017, 0.0223, 0.1689],\n",
      "        [0.2939, 0.5185, 0.6977, 0.8000, 0.1610, 0.2823, 0.6816],\n",
      "        [0.9152, 0.3971, 0.8742, 0.4194, 0.5529, 0.9527, 0.0362],\n",
      "        [0.1852, 0.3734, 0.3051, 0.9320, 0.1759, 0.2698, 0.1507],\n",
      "        [0.0317, 0.2081, 0.9298, 0.7231, 0.7423, 0.5263, 0.2437],\n",
      "        [0.5846, 0.0332, 0.1387, 0.2422, 0.8155, 0.7932, 0.2783]])\n",
      "tensor([[1.8542],\n",
      "        [1.9611],\n",
      "        [2.2884],\n",
      "        [3.0481],\n",
      "        [1.7067],\n",
      "        [2.5290],\n",
      "        [1.7989]]) torch.Size([7, 1])\n",
      "Max value: tensor(3.0481) at tensor(3)\n",
      "Min value: tensor(1.7067) at tensor(4)\n"
     ]
    }
   ],
   "source": [
    "# exercise 4\n",
    "torch.manual_seed(0) # set seed to 0\n",
    "\n",
    "# Create a random tensor with shape (7, 7).\n",
    "ex_random_tensor = torch.rand(7,7)\n",
    "print(\"Exercise random tensor:\", ex_random_tensor) # here, because random seed is set, it gives same values every time.\n",
    "\n",
    "# Matrix multiplication\n",
    "ex_random_tensor_2 = torch.rand(1,7)\n",
    "# matrix_mult = torch.matmul(ex_random_tensor, ex_random_tensor_2) # directly (7,7 and 1,7)\n",
    "matrix_mult = torch.matmul(ex_random_tensor, ex_random_tensor_2.T)\n",
    "print(matrix_mult, matrix_mult.shape) # output 7,1. but same every time.\n",
    "\n",
    "# exercise for min max  of matrix_mult and their indices.\n",
    "\n",
    "print(\"Max value:\", torch.max(matrix_mult), \"at\", torch.argmax(matrix_mult))\n",
    "print(\"Min value:\", torch.min(matrix_mult), \"at\", torch.argmin(matrix_mult))"
   ]
  },
  {
   "cell_type": "code",
   "execution_count": 51,
   "metadata": {},
   "outputs": [
    {
     "name": "stdout",
     "output_type": "stream",
     "text": [
      "Exercise random tensor 3: tensor([[[[0.5349, 0.1988, 0.6592, 0.6569, 0.2328, 0.4251, 0.2071, 0.6297,\n",
      "           0.3653, 0.8513]]]]) torch.Size([1, 1, 1, 10])\n",
      "Exercise random tensor 3 squeezed: tensor([0.5349, 0.1988, 0.6592, 0.6569, 0.2328, 0.4251, 0.2071, 0.6297, 0.3653,\n",
      "        0.8513]) torch.Size([10])\n"
     ]
    }
   ],
   "source": [
    "torch.manual_seed(7)\n",
    "ex_rand_tensor_3 = torch.rand(1,1,1,10)\n",
    "print(\"Exercise random tensor 3:\", ex_rand_tensor_3, ex_rand_tensor_3.shape)\n",
    "ex_rand_tensor_3_squeezed = torch.squeeze(ex_rand_tensor_3)\n",
    "print(\"Exercise random tensor 3 squeezed:\", ex_rand_tensor_3_squeezed, ex_rand_tensor_3_squeezed.shape)"
   ]
  }
 ],
 "metadata": {
  "kernelspec": {
   "display_name": "torchproj",
   "language": "python",
   "name": "python3"
  },
  "language_info": {
   "codemirror_mode": {
    "name": "ipython",
    "version": 3
   },
   "file_extension": ".py",
   "mimetype": "text/x-python",
   "name": "python",
   "nbconvert_exporter": "python",
   "pygments_lexer": "ipython3",
   "version": "3.10.15"
  }
 },
 "nbformat": 4,
 "nbformat_minor": 2
}
